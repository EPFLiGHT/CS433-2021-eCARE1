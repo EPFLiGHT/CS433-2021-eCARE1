{
 "cells": [
  {
   "cell_type": "code",
   "execution_count": 1,
   "id": "f89a3e13",
   "metadata": {
    "scrolled": true
   },
   "outputs": [
    {
     "name": "stderr",
     "output_type": "stream",
     "text": [
      "--------\n",
      "This is sdcMicro v5.6.1.\n",
      "For references, please have a look at citation('sdcMicro')\n",
      "Note: since version 5.0.0, the graphical user-interface is a shiny-app that can be started with sdcApp().\n",
      "Please submit suggestions and bugs at: https://github.com/sdcTools/sdcMicro/issues\n",
      "--------\n",
      "\n"
     ]
    }
   ],
   "source": [
    "library(sdcMicro)"
   ]
  },
  {
   "cell_type": "code",
   "execution_count": 2,
   "id": "5603b877",
   "metadata": {},
   "outputs": [
    {
     "data": {
      "text/plain": [
       "\n",
       "To cite sdcMicro in publications use:\n",
       "\n",
       "  Matthias Templ, Alexander Kowarik, Bernhard Meindl (2015).\n",
       "  Statistical Disclosure Control for Micro-Data Using the R Package\n",
       "  sdcMicro. Journal of Statistical Software, 67(4), 1-36.\n",
       "  doi:10.18637/jss.v067.i04\n",
       "\n",
       "Une entrée BibTeX pour les utilisateurs LaTeX est\n",
       "\n",
       "  @Article{,\n",
       "    title = {Statistical Disclosure Control for Micro-Data Using the {R} Package {sdcMicro}},\n",
       "    author = {Matthias Templ and Alexander Kowarik and Bernhard Meindl},\n",
       "    journal = {Journal of Statistical Software},\n",
       "    year = {2015},\n",
       "    volume = {67},\n",
       "    number = {4},\n",
       "    pages = {1--36},\n",
       "    doi = {10.18637/jss.v067.i04},\n",
       "  }\n"
      ]
     },
     "metadata": {},
     "output_type": "display_data"
    }
   ],
   "source": [
    "citation('sdcMicro')"
   ]
  },
  {
   "cell_type": "code",
   "execution_count": 3,
   "id": "27f5b851",
   "metadata": {},
   "outputs": [],
   "source": [
    "inputdata   <-   readMicrodata(path='cleaned_data.csv',   type='csv',\n",
    "convertCharToFac=TRUE, drop_all_missings=TRUE, header=TRUE, sep=',')"
   ]
  },
  {
   "cell_type": "code",
   "execution_count": 4,
   "id": "af3e3ce1",
   "metadata": {},
   "outputs": [],
   "source": [
    "sdcObj <- createSdcObj(dat=inputdata,\n",
    "        keyVars=c('project','a_age','a_gender2','created'),\n",
    "        hhId=NULL,\n",
    "        strataVar=NULL,\n",
    "        pramVars=NULL,\n",
    "        excludeVars=NULL,\n",
    "        seed=0,\n",
    "        randomizeRecords=FALSE,\n",
    "        alpha=c(1)\n",
    ")"
   ]
  },
  {
   "cell_type": "code",
   "execution_count": 5,
   "id": "ce95bd58",
   "metadata": {},
   "outputs": [
    {
     "name": "stderr",
     "output_type": "stream",
     "text": [
      "Warning message in nextSdcObjX(obj):\n",
      "“No previous states are saved because your data set has more than 100 000 observations.\n",
      "”\n"
     ]
    }
   ],
   "source": [
    "sdcObj <- localSuppression(sdcObj, k = 5)"
   ]
  },
  {
   "cell_type": "code",
   "execution_count": 6,
   "id": "1eeb7e99",
   "metadata": {},
   "outputs": [],
   "source": [
    "writeSafeFile(obj=sdcObj, \n",
    "format='csv',\n",
    "randomizeRecords='no',\n",
    "fileOut='anonymized_data.csv',\n",
    "sep=',',\n",
    ")"
   ]
  },
  {
   "cell_type": "code",
   "execution_count": null,
   "id": "13deb5e8",
   "metadata": {},
   "outputs": [],
   "source": []
  }
 ],
 "metadata": {
  "kernelspec": {
   "display_name": "R for privacy evaluation",
   "language": "R",
   "name": "r"
  },
  "language_info": {
   "codemirror_mode": "r",
   "file_extension": ".r",
   "mimetype": "text/x-r-source",
   "name": "R",
   "pygments_lexer": "r",
   "version": "4.1.2"
  }
 },
 "nbformat": 4,
 "nbformat_minor": 5
}
