{
 "cells": [
  {
   "cell_type": "code",
   "execution_count": 1,
   "id": "8875bbe4",
   "metadata": {},
   "outputs": [
    {
     "data": {
      "text/plain": [
       "<torch._C.Generator at 0x7f34479d1570>"
      ]
     },
     "execution_count": 1,
     "metadata": {},
     "output_type": "execute_result"
    }
   ],
   "source": [
    "import pandas as pd\n",
    "\n",
    "import epoct_helpers\n",
    "from epoct_helpers import* \n",
    "from projet_helpers import* \n",
    "from matplotlib.backends.backend_pdf import PdfPages\n",
    "from matplotlib.backends.backend_pdf import PdfPages\n",
    "\n",
    "# for reproducibility\n",
    "seed = 1\n",
    "random.seed(seed)\n",
    "np.random.seed(seed)\n",
    "torch.manual_seed(seed)"
   ]
  },
  {
   "cell_type": "code",
   "execution_count": 2,
   "id": "d0fa91fd",
   "metadata": {
    "scrolled": true
   },
   "outputs": [
    {
     "name": "stderr",
     "output_type": "stream",
     "text": [
      "/nix/store/jixfsvgyjrgh4v1barmm7sm81d0m42qr-python3-3.9.6-env/lib/python3.9/site-packages/IPython/core/interactiveshell.py:3444: DtypeWarning: Columns (0,2,5,8,9,43,46,48,51,54,114,129,130,131,134,135,136,154,156,158,160,182,183,184,186,187,191,202,203,204,208,212,234,248,252,265,266) have mixed types.Specify dtype option on import or set low_memory=False.\n",
      "  exec(code_obj, self.user_global_ns, self.user_ns)\n"
     ]
    },
    {
     "data": {
      "text/plain": [
       "(310304, 271)"
      ]
     },
     "execution_count": 2,
     "metadata": {},
     "output_type": "execute_result"
    }
   ],
   "source": [
    "df = pd.read_csv('full_data_310k.csv')\n",
    "df.shape"
   ]
  },
  {
   "cell_type": "markdown",
   "id": "f34da215",
   "metadata": {},
   "source": [
    "## General-purpose cleanup"
   ]
  },
  {
   "cell_type": "code",
   "execution_count": 3,
   "id": "b5df0be3",
   "metadata": {},
   "outputs": [],
   "source": [
    "df=cleaning_function(df)"
   ]
  },
  {
   "cell_type": "markdown",
   "id": "34c75d60",
   "metadata": {},
   "source": [
    "## Anonymisation-related cleanup"
   ]
  },
  {
   "cell_type": "markdown",
   "id": "d01ed182",
   "metadata": {},
   "source": [
    "Recode consultation date"
   ]
  },
  {
   "cell_type": "code",
   "execution_count": 4,
   "id": "7dde5ce9",
   "metadata": {},
   "outputs": [],
   "source": [
    "df['created'] = pd.to_datetime(df['created'], errors='coerce').dt.month"
   ]
  },
  {
   "cell_type": "markdown",
   "id": "8de84406",
   "metadata": {},
   "source": [
    "Recode patient age"
   ]
  },
  {
   "cell_type": "code",
   "execution_count": 5,
   "id": "abe0c768",
   "metadata": {},
   "outputs": [],
   "source": [
    "df['a_age'] = (df['a_age']/6).round()*6"
   ]
  },
  {
   "cell_type": "code",
   "execution_count": 6,
   "id": "84b64170",
   "metadata": {},
   "outputs": [],
   "source": [
    "df.to_csv('cleaned_data.csv')"
   ]
  },
  {
   "cell_type": "code",
   "execution_count": null,
   "id": "1135db2a",
   "metadata": {},
   "outputs": [],
   "source": []
  }
 ],
 "metadata": {
  "kernelspec": {
   "display_name": "Python 3 for machine learning",
   "language": "python",
   "name": "python3"
  },
  "language_info": {
   "codemirror_mode": {
    "name": "ipython",
    "version": 3
   },
   "file_extension": ".py",
   "mimetype": "text/x-python",
   "name": "python",
   "nbconvert_exporter": "python",
   "pygments_lexer": "ipython3",
   "version": "3.9.6"
  }
 },
 "nbformat": 4,
 "nbformat_minor": 5
}
